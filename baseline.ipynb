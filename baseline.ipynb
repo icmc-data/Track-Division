{
 "cells": [
  {
   "cell_type": "code",
   "execution_count": 1,
   "source": [
    "import numpy as np\r\n",
    "import pandas as pd\r\n",
    "import matplotlib.pyplot as plt\r\n",
    "\r\n",
    "import torch\r\n",
    "import torch.nn as nn"
   ],
   "outputs": [],
   "metadata": {}
  },
  {
   "cell_type": "code",
   "execution_count": null,
   "source": [
    "class StemNet(nn.Module):\r\n",
    "    def __init__(self):\r\n",
    "        super(StemNet, self).__init__()\r\n",
    "    \r\n",
    "        self.layers = nn.Sequential(\r\n",
    "            nn.Conv2d(in_channels=1, out_channels=32, kernel_size=(3,3)),\r\n",
    "            nn.LeakyReLU(inplace=True),\r\n",
    "            nn.Conv2d(in_channels=32, out_channels=16, kernel_size=(3, 3)),\r\n",
    "            nn.LeakyReLU(inplace=True),\r\n",
    "            nn.MaxPool2d(kernel_size=3),\r\n",
    "            nn.Dropout(0.25),\r\n",
    "\r\n",
    "            nn.Conv2d(in_channels=16, out_channels=64, kernel_size=(3, 3)),\r\n",
    "            nn.LeakyReLU(inplace=True),\r\n",
    "            nn.Conv2d(in_channels=64, out_channels=16, kernel_size=(3, 3)),\r\n",
    "            nn.LeakyReLU(inplace=True),\r\n",
    "            nn.MaxPool2d(kernel_size=3),\r\n",
    "            nn.Dropout(0.25),\r\n",
    "\r\n",
    "            nn.Flatten(),\r\n",
    "            nn.Linear(in_features=1824, out_features=128),\r\n",
    "            nn.LeakyReLU(inplace=True),\r\n",
    "            nn.Dropout(0.5),\r\n",
    "            nn.Linear(in_features=128, out_features=513)\r\n",
    "        )\r\n",
    "\r\n",
    "    def forward(self, x):\r\n",
    "        x = self.layers(x)\r\n",
    "        return x"
   ],
   "outputs": [],
   "metadata": {}
  }
 ],
 "metadata": {
  "orig_nbformat": 4,
  "language_info": {
   "name": "python",
   "version": "3.8.11",
   "mimetype": "text/x-python",
   "codemirror_mode": {
    "name": "ipython",
    "version": 3
   },
   "pygments_lexer": "ipython3",
   "nbconvert_exporter": "python",
   "file_extension": ".py"
  },
  "kernelspec": {
   "name": "python3",
   "display_name": "Python 3.8.11 64-bit ('pytorch': conda)"
  },
  "interpreter": {
   "hash": "4f39a2ef23a84ac33f9b3174101842def9c2e2d4b67f90e056ccdd7684d4b4d9"
  }
 },
 "nbformat": 4,
 "nbformat_minor": 2
}